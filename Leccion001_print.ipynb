{
 "cells": [
  {
   "cell_type": "markdown",
   "metadata": {},
   "source": [
    "# Juguemos a imprimir\n",
    "\n",
    "La comunicación es muy importante. Por eso debemos asegurarnos que nuestros códigos pueden comunicarnos sus resultados oportunamente y con un alto grado de confianza.\n",
    "\n",
    "Para imprimir en pantalla usamos la función print().\n",
    "\n",
    "print(\"Hola Señorita Villada\") Imprime en pantalla la frase encerrada entre comillas.\n",
    "print(2020) Imprime en pantalla el número 2020\n",
    "print(\"Hola Señorita Villada\", 2020) Imprime en pantalla la frase y luego el número en una misma línea\n",
    "\n",
    "Verifiquemos:"
   ]
  },
  {
   "cell_type": "code",
   "execution_count": null,
   "metadata": {},
   "outputs": [],
   "source": [
    "print(\"Hola Señorita Villada\")\n",
    "print(2020)\n",
    "print(\"Hola Señorita Villada\", 2020)"
   ]
  },
  {
   "cell_type": "markdown",
   "metadata": {},
   "source": [
    "Desafío 1: Completa la siguiente instrucción para que escriba la frase: Hola mundo!"
   ]
  },
  {
   "cell_type": "code",
   "execution_count": null,
   "metadata": {},
   "outputs": [],
   "source": [
    "print(\"\")"
   ]
  },
  {
   "cell_type": "markdown",
   "metadata": {},
   "source": [
    "Desafío 2: Escribe una instrucción para imprimir en pantalla los colores de nuestra bandera en una misma línea."
   ]
  },
  {
   "cell_type": "code",
   "execution_count": null,
   "metadata": {},
   "outputs": [],
   "source": []
  },
  {
   "cell_type": "markdown",
   "metadata": {},
   "source": [
    "Desafío 3:Escribe instrucciones para imprimir en pantalla los colores de nuestra bandera, cada uno en una nueva línea"
   ]
  },
  {
   "cell_type": "code",
   "execution_count": null,
   "metadata": {},
   "outputs": [],
   "source": []
  }
 ],
 "metadata": {
  "kernelspec": {
   "display_name": "Python 3",
   "language": "python",
   "name": "python3"
  },
  "language_info": {
   "codemirror_mode": {
    "name": "ipython",
    "version": 3
   },
   "file_extension": ".py",
   "mimetype": "text/x-python",
   "name": "python",
   "nbconvert_exporter": "python",
   "pygments_lexer": "ipython3",
   "version": "3.7.9"
  }
 },
 "nbformat": 4,
 "nbformat_minor": 4
}
